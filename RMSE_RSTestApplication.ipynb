{
  "nbformat": 4,
  "nbformat_minor": 0,
  "metadata": {
    "colab": {
      "name": "RMSE_RSTestApplication",
      "provenance": []
    },
    "kernelspec": {
      "name": "python3",
      "display_name": "Python 3"
    },
    "language_info": {
      "name": "python"
    }
  },
  "cells": [
    {
      "cell_type": "markdown",
      "metadata": {
        "id": "wWPSHLYlluiU"
      },
      "source": [
        "For the following exercise, submit your answer or provide an external link below. Please include the code, the output, and the explanation.\n",
        "\n",
        "Two models were trained using the following data:\n",
        "\n",
        "\n",
        "**x = [0, 1, 2, 3, 4]**\n",
        "\n",
        "**y = [0.1, 0.9, 2.1, 2.9, 4.1]**\n",
        "\n",
        "\n",
        "Model 1 predicted **y_1 = [0, 1, 2, 3, 4]**, \n",
        "\n",
        "and model 2 predicted y_2 = [0.1, 0.9, 2.1, 2.9, 4.1].\n",
        "\n",
        "Write a Python function that computes the root mean square error (RMSE) for each model. For the test point (x, y) = (5, 5.1), model 1 predicted y_1 = 5, and model 2 predicted y_2 = 5.2. Which model is better and why?*"
      ]
    },
    {
      "cell_type": "markdown",
      "metadata": {
        "id": "76YCaTovmM85"
      },
      "source": [
        "The formula is:\n",
        "\n",
        "$$RMSE = \\sqrt{(f - o)^2)}$$\n",
        "\n",
        "f = forecasts\n",
        "\n",
        "o = observed forecasts"
      ]
    },
    {
      "cell_type": "code",
      "metadata": {
        "colab": {
          "base_uri": "https://localhost:8080/"
        },
        "id": "Yb1cXP7xlsCS",
        "outputId": "133ae538-7cb5-45a6-ca5a-2d8d161690c4"
      },
      "source": [
        "import numpy as np\n",
        "\n",
        "#Define the RMSE function for each model\n",
        "def rmse(prediction, targets):\n",
        "  return np.sqrt(((prediction - targets) ** 2).mean())\n",
        "\n",
        "##Test the Model\n",
        "tp1 = 5\n",
        "tp2 = 5.2\n",
        "y_test = 5.1\n",
        "\n",
        "rmse_test1 = rmse(np.array(tp1), np.array(y_test))\n",
        "rmse_test2 = rmse(np.array(tp2), np.array(y_test))\n",
        "\n",
        "print(\"The RMSE of Model Test 1 is: \", rmse_test1)\n",
        "print(\"The RMSE of Model Test 2 is: \", rmse_test2, \"\\n\")\n",
        "\n",
        "#inputs put into the models\n",
        "x = [0, 1, 2, 3, 4]\n",
        "y = [0.1, 0.9, 2.1, 2.9, 3.4]\n",
        "\n",
        "#predictions from the models\n",
        "y1 = [0, 1, 2, 3, 4]\n",
        "y2 = [0.1, 0.9, 2.1, 2.9, 4.1]\n",
        "\n",
        "rmse_1 = rmse(np.array(y1), np.array(y))\n",
        "rmse_2 = rmse(np.array(y2), np.array(y))\n",
        "\n",
        "#Print the RMSE results\n",
        "print(\"The RMSE of Model 1 is: \", rmse_1)\n",
        "print(\"The RMSE of Model 2 is: \", rmse_2)"
      ],
      "execution_count": 8,
      "outputs": [
        {
          "output_type": "stream",
          "text": [
            "The RMSE of Model Test 1 is:  0.09999999999999964\n",
            "The RMSE of Model Test 2 is:  0.10000000000000053 \n",
            "\n",
            "The RMSE of Model 1 is:  0.28284271247461906\n",
            "The RMSE of Model 2 is:  0.31304951684997046\n"
          ],
          "name": "stdout"
        }
      ]
    },
    {
      "cell_type": "markdown",
      "metadata": {
        "id": "yEBjO0e-p0ND"
      },
      "source": [
        "Because the Test RMSE of Model 1 is slightly lower than Model 2 and thus is slightly better than Model 2. "
      ]
    }
  ]
}